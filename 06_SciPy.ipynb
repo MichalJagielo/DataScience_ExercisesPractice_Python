{
  "nbformat": 4,
  "nbformat_minor": 0,
  "metadata": {
    "colab": {
      "name": "06_SciPy.ipynb",
      "provenance": [],
      "collapsed_sections": [],
      "authorship_tag": "ABX9TyPNjfJl0oK6jr2PDSDttsOc",
      "include_colab_link": true
    },
    "kernelspec": {
      "name": "python3",
      "display_name": "Python 3"
    },
    "language_info": {
      "name": "python"
    }
  },
  "cells": [
    {
      "cell_type": "markdown",
      "metadata": {
        "id": "view-in-github",
        "colab_type": "text"
      },
      "source": [
        "<a href=\"https://colab.research.google.com/github/MichalJagielo/DataScience_course_python/blob/main/06_SciPy.ipynb\" target=\"_parent\"><img src=\"https://colab.research.google.com/assets/colab-badge.svg\" alt=\"Open In Colab\"/></a>"
      ]
    },
    {
      "cell_type": "code",
      "execution_count": 93,
      "metadata": {
        "id": "fJhC5jo0MCS4"
      },
      "outputs": [],
      "source": [
        "import numpy as np\n",
        "import matplotlib.pyplot as plt\n",
        "import seaborn as sns\n",
        "from scipy.stats import norm\n",
        "sns.set()\n",
        "\n"
      ]
    },
    {
      "cell_type": "code",
      "source": [
        "# dane dyskretne - badana cecha X jako ocena końcowa\n",
        "X = np.array([3, 4.5, 5, 4.5, 3])\n",
        "print(X)"
      ],
      "metadata": {
        "colab": {
          "base_uri": "https://localhost:8080/"
        },
        "id": "P0lsdPGueVST",
        "outputId": "a9b5d666-3d08-481f-e635-a9620a8b8900"
      },
      "execution_count": 9,
      "outputs": [
        {
          "output_type": "stream",
          "name": "stdout",
          "text": [
            "[3.  4.5 5.  4.5 3. ]\n"
          ]
        }
      ]
    },
    {
      "cell_type": "code",
      "source": [
        "# dane ciągłe - badana cecha Y jako wzrost\n",
        "Y = np.array([185, 179.5, 192, 185.5])\n",
        "print(Y)"
      ],
      "metadata": {
        "colab": {
          "base_uri": "https://localhost:8080/"
        },
        "id": "biPkEJ4Benk4",
        "outputId": "055fc715-879e-4ccf-e415-08d473205c2c"
      },
      "execution_count": 5,
      "outputs": [
        {
          "output_type": "stream",
          "name": "stdout",
          "text": [
            "[185.  179.5 192.  185.5]\n"
          ]
        }
      ]
    },
    {
      "cell_type": "code",
      "source": [
        "# AVG\n",
        "print(X.mean())\n",
        "print(Y.mean())"
      ],
      "metadata": {
        "colab": {
          "base_uri": "https://localhost:8080/"
        },
        "id": "48hAe_TLfoiD",
        "outputId": "2219450c-c038-4720-d15e-63a49863a60f"
      },
      "execution_count": 11,
      "outputs": [
        {
          "output_type": "stream",
          "name": "stdout",
          "text": [
            "4.0\n",
            "185.5\n"
          ]
        }
      ]
    },
    {
      "cell_type": "code",
      "source": [
        "# MEDIAN\n",
        "X = np.array([3, 3, 4.5, 5, 4.5])\n",
        "Y = np.array([3, 4.5, 5, 5])\n",
        "#np.median(X)\n",
        "np.median(Y)"
      ],
      "metadata": {
        "colab": {
          "base_uri": "https://localhost:8080/"
        },
        "id": "0IZDD4gygTIa",
        "outputId": "040782aa-41e7-4607-900f-0995527955fc"
      },
      "execution_count": 23,
      "outputs": [
        {
          "output_type": "execute_result",
          "data": {
            "text/plain": [
              "4.75"
            ]
          },
          "metadata": {},
          "execution_count": 23
        }
      ]
    },
    {
      "cell_type": "code",
      "source": [
        "# STD \n",
        "X = np.array([3.5, 4.0, 4.0])\n",
        "Y = np.array([2.0, 4.0, 5.0])\n",
        "X_mean = np.mean(X)\n",
        "Y_mean = np.mean(Y)\n",
        "variance_X = 1 / len(X) * ((X - X_mean)**2).sum()\n",
        "STD_X = np.sqrt(variance_X)\n",
        "print(f'STD_X: {STD_X:.3f}')\n",
        "variance_Y = 1 / len(Y) * ((Y - Y_mean)**2).sum()\n",
        "STD_Y = np.sqrt(variance_Y)\n",
        "print(f'STD_Y: {STD_Y:.3f}')"
      ],
      "metadata": {
        "colab": {
          "base_uri": "https://localhost:8080/"
        },
        "id": "JT9maR-llDpI",
        "outputId": "ef0a4b09-8c87-443a-cf81-d9059bde14fc"
      },
      "execution_count": 40,
      "outputs": [
        {
          "output_type": "stream",
          "name": "stdout",
          "text": [
            "STD_X: 0.236\n",
            "STD_Y: 1.247\n"
          ]
        }
      ]
    },
    {
      "cell_type": "code",
      "source": [
        "# PROBABILITY\n",
        "omega = {1, 2, 3, 4, 5, 6}\n",
        "# outcomes_A = {2, 4, 6}\n",
        "A = {elem for elem in omega if elem % 2 == 0}\n",
        "P_A = len(A) / len(omega)\n",
        "P_A"
      ],
      "metadata": {
        "colab": {
          "base_uri": "https://localhost:8080/"
        },
        "id": "zwDz8JuToNNd",
        "outputId": "064bb2c8-85c6-4881-e348-56c79563868a"
      },
      "execution_count": 57,
      "outputs": [
        {
          "output_type": "execute_result",
          "data": {
            "text/plain": [
              "0.5"
            ]
          },
          "metadata": {},
          "execution_count": 57
        }
      ]
    },
    {
      "cell_type": "code",
      "source": [
        "# PROBABILITY\n",
        "omega = {1, 2, 3, 4, 5, 6}\n",
        "# outcomes_B > 4 = {5, 6}\n",
        "B = {elem for elem in omega if elem > 3}\n",
        "P_B = len(B) / len(omega)\n",
        "P_B"
      ],
      "metadata": {
        "colab": {
          "base_uri": "https://localhost:8080/"
        },
        "id": "oFbe4Li9p2vM",
        "outputId": "bbf1a55f-be78-4ce3-d43a-cbef99784438"
      },
      "execution_count": 67,
      "outputs": [
        {
          "output_type": "execute_result",
          "data": {
            "text/plain": [
              "0.5"
            ]
          },
          "metadata": {},
          "execution_count": 67
        }
      ]
    },
    {
      "cell_type": "code",
      "source": [
        "# PROBABILITY - INDEPENDENT EVENTS\n",
        "sets_AB = set.intersection(A, B)\n",
        "P_sets_AB = len(sets_AB) / len(omega)\n",
        "PA_PB = P_A * P_B\n",
        "print(f'sets_AB = {sets_AB}')\n",
        "print(f'P_sets_AB = {P_sets_AB:.3f}')\n",
        "print(f'PA_PB = {PA_PB:.3f}')\n",
        "check = 'Independent events' if PA_PB == P_sets_AB else 'dependent events'\n",
        "print(check)"
      ],
      "metadata": {
        "colab": {
          "base_uri": "https://localhost:8080/"
        },
        "id": "DAGjFfeFqQX6",
        "outputId": "fab45914-62ab-42e1-d9be-09ceda16fb77"
      },
      "execution_count": 68,
      "outputs": [
        {
          "output_type": "stream",
          "name": "stdout",
          "text": [
            "sets_AB = {4, 6}\n",
            "P_sets_AB = 0.333\n",
            "PA_PB = 0.250\n",
            "dependent events\n"
          ]
        }
      ]
    },
    {
      "cell_type": "code",
      "source": [
        "# CONDITIONAL PROBABILITY P_A if P_B --> P_B > 0\n",
        "PA_cond_B = PA_PB / P_B\n",
        "PA_cond_B"
      ],
      "metadata": {
        "colab": {
          "base_uri": "https://localhost:8080/"
        },
        "id": "gUPLuqMXuRJV",
        "outputId": "7d674d27-f114-4ee4-fb4e-a64dd81787df"
      },
      "execution_count": 69,
      "outputs": [
        {
          "output_type": "execute_result",
          "data": {
            "text/plain": [
              "0.5"
            ]
          },
          "metadata": {},
          "execution_count": 69
        }
      ]
    },
    {
      "cell_type": "code",
      "source": [
        "# EXPECTED VALUE OF RANDOM VARIABLE, VARIANCE\n",
        "X = [0, 1, 2, 3]\n",
        "P_X_xi = [0.5, 0.3, 0.15, 0.05]\n",
        "\n",
        "E_X = sum([el1 * el2 for el1, el2 in zip(X, P_X_xi)])\n",
        "print(f\"E_X = {E_X}\")\n",
        "\n",
        "VAR_X = sum([((el1 - E_X)**2)*el2 for el1, el2 in zip(X, P_X_xi)])\n",
        "print(f\"VAR_X = {VAR_X}\")\n",
        "\n",
        "STD_X = np.sqrt(VAR_X)\n",
        "print(f\"STD_X = {STD_X}\")"
      ],
      "metadata": {
        "colab": {
          "base_uri": "https://localhost:8080/"
        },
        "id": "49YzYIhuwfsk",
        "outputId": "7cb6fe8a-e1dc-4d79-a676-9ee1bb51f774"
      },
      "execution_count": 85,
      "outputs": [
        {
          "output_type": "stream",
          "name": "stdout",
          "text": [
            "E_X = 0.75\n",
            "VAR_X = 0.7875000000000001\n",
            "STD_X = 0.8874119674649424\n"
          ]
        }
      ]
    },
    {
      "cell_type": "code",
      "source": [
        "# CORRELATION\n",
        "x = np.random.randn(5)\n",
        "y = np.random.randn(5)\n",
        "print(x)\n",
        "print(y)\n",
        "print(f'correlation_x_y = \\n {np.corrcoef(x, y)}')"
      ],
      "metadata": {
        "colab": {
          "base_uri": "https://localhost:8080/"
        },
        "id": "Vv4yosf30Vzh",
        "outputId": "53e870f1-6c9b-478c-fac8-0c1d10107b32"
      },
      "execution_count": 92,
      "outputs": [
        {
          "output_type": "stream",
          "name": "stdout",
          "text": [
            "[-0.45291427 -0.02666762 -0.61548682 -0.44854458  0.17415357]\n",
            "[-0.96305224  0.29594813 -1.16530023 -0.405457    0.91478772]\n",
            "correlation_x_y = \n",
            " [[1.         0.97346134]\n",
            " [0.97346134 1.        ]]\n"
          ]
        }
      ]
    },
    {
      "cell_type": "code",
      "source": [
        "# STANDARD DEVIATION\n",
        "mu = 0 #avg\n",
        "sigma = 1 #std\n",
        "x = np.linspace(mu -3*sigma, mu + 3*sigma, 100)\n",
        "plt.title('Standard deviation - density function')\n",
        "_= plt.plot(x, norm.pdf(x, mu, sigma))"
      ],
      "metadata": {
        "colab": {
          "base_uri": "https://localhost:8080/",
          "height": 284
        },
        "id": "k4AcHSJs1ZmX",
        "outputId": "fa93538d-4711-4f01-b708-28bd51514372"
      },
      "execution_count": 94,
      "outputs": [
        {
          "output_type": "display_data",
          "data": {
            "image/png": "[encoded data removed]",
            "text/plain": [
              "<Figure size 432x288 with 1 Axes>"
            ]
          },
          "metadata": {}
        }
      ]
    },
    {
      "cell_type": "code",
      "source": [
        "x = np.linspace(mu -3 * sigma, mu + 3 * sigma, 500)\n",
        "parameters = [(0,1),(0,2),(0,0.5)]\n",
        "\n",
        "plt.figure(figsize=(6,6))\n",
        "for mu, sigma in parameters:\n",
        "    plt.plot(x, norm.pdf(x, mu, sigma), label=f'mu={mu}, sigma={sigma}')\n",
        "plt.legend()\n",
        "\n"
      ],
      "metadata": {
        "colab": {
          "base_uri": "https://localhost:8080/",
          "height": 395
        },
        "id": "dcMdON3Q2qtr",
        "outputId": "eba51780-3ffc-4614-a649-d54b025eb6e7"
      },
      "execution_count": 99,
      "outputs": [
        {
          "output_type": "execute_result",
          "data": {
            "text/plain": [
              "<matplotlib.legend.Legend at 0x7fdd8fd635d0>"
            ]
          },
          "metadata": {},
          "execution_count": 99
        },
        {
          "output_type": "display_data",
          "data": {
            "image/png": "[encoded data removed]",
            "text/plain": [
              "<Figure size 432x432 with 1 Axes>"
            ]
          },
          "metadata": {}
        }
      ]
    },
    {
      "cell_type": "code",
      "source": [
        "mu = 10 \n",
        "sigma = 3 \n",
        "x = np.linspace(mu -8*sigma, mu + 8*sigma, 500)\n",
        "plt.plot(x, norm.pdf(x, mu, sigma))\n",
        "plt.plot(x, norm.pdf(x, mu-mu, sigma))\n",
        "plt.plot(x, norm.pdf(x, mu-mu, sigma/sigma))\n"
      ],
      "metadata": {
        "colab": {
          "base_uri": "https://localhost:8080/",
          "height": 286
        },
        "id": "XDiQml0G4BVO",
        "outputId": "420eb2c5-df17-4dd0-9640-68bafafa22b6"
      },
      "execution_count": 101,
      "outputs": [
        {
          "output_type": "execute_result",
          "data": {
            "text/plain": [
              "[<matplotlib.lines.Line2D at 0x7fdd8fca25d0>]"
            ]
          },
          "metadata": {},
          "execution_count": 101
        },
        {
          "output_type": "display_data",
          "data": {
            "image/png": "[encoded data removed]",
            "text/plain": [
              "<Figure size 432x288 with 1 Axes>"
            ]
          },
          "metadata": {}
        }
      ]
    },
    {
      "cell_type": "code",
      "source": [
        "# CUMULATIVE DISTRIBUTION FUNCTION\n",
        "plt.plot(x, norm.cdf(x, mu, sigma))"
      ],
      "metadata": {
        "colab": {
          "base_uri": "https://localhost:8080/",
          "height": 286
        },
        "id": "3U1TjXzL42GI",
        "outputId": "9226a2b4-5962-45c4-eace-b42ff9ce288f"
      },
      "execution_count": 102,
      "outputs": [
        {
          "output_type": "execute_result",
          "data": {
            "text/plain": [
              "[<matplotlib.lines.Line2D at 0x7fdd8fc62a50>]"
            ]
          },
          "metadata": {},
          "execution_count": 102
        },
        {
          "output_type": "display_data",
          "data": {
            "image/png": "[encoded data removed]",
            "text/plain": [
              "<Figure size 432x288 with 1 Axes>"
            ]
          },
          "metadata": {}
        }
      ]
    },
    {
      "cell_type": "code",
      "source": [
        "# SURVIVAL FUNCTION\n",
        "plt.plot(x, norm.sf(x, mu, sigma))"
      ],
      "metadata": {
        "colab": {
          "base_uri": "https://localhost:8080/",
          "height": 286
        },
        "id": "ko4TDV2s5ID2",
        "outputId": "1e75a009-3dc9-4994-8552-b7f4b089e452"
      },
      "execution_count": 103,
      "outputs": [
        {
          "output_type": "execute_result",
          "data": {
            "text/plain": [
              "[<matplotlib.lines.Line2D at 0x7fdd8fbf98d0>]"
            ]
          },
          "metadata": {},
          "execution_count": 103
        },
        {
          "output_type": "display_data",
          "data": {
            "image/png": "[encoded data removed]",
            "text/plain": [
              "<Figure size 432x288 with 1 Axes>"
            ]
          },
          "metadata": {}
        }
      ]
    },
    {
      "cell_type": "code",
      "source": [
        ""
      ],
      "metadata": {
        "id": "YgVYxidG5W0E"
      },
      "execution_count": null,
      "outputs": []
    }
  ]
}